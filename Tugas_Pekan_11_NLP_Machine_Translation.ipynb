{
  "nbformat": 4,
  "nbformat_minor": 0,
  "metadata": {
    "colab": {
      "name": "Tugas Pekan 11 - NLP - Machine Translation.ipynb",
      "provenance": []
    },
    "kernelspec": {
      "name": "python3",
      "display_name": "Python 3"
    }
  },
  "cells": [
    {
      "cell_type": "markdown",
      "metadata": {
        "id": "DMhSr7O6PDV8"
      },
      "source": [
        "# **Machine Translation**\n",
        "\n",
        "Indonesia - Sunda\n",
        "\n",
        "---\n",
        "\n",
        "Clarisa Hasya Y - 1301174256"
      ]
    },
    {
      "cell_type": "code",
      "metadata": {
        "id": "s8ok1LK3SUBk"
      },
      "source": [
        "import nltk\n",
        "from nltk.translate import Alignment, AlignedSent\n",
        "from nltk.translate import IBMModel1"
      ],
      "execution_count": 1,
      "outputs": []
    },
    {
      "cell_type": "markdown",
      "metadata": {
        "id": "AhaQjk-Ami45"
      },
      "source": [
        "Definisi korpus paralel yang berisi alignment"
      ]
    },
    {
      "cell_type": "code",
      "metadata": {
        "id": "uXqZIjOGydQ2"
      },
      "source": [
        "corpus =[]\n",
        "corpus.append(AlignedSent( [\"saya\", \"mau\", \"makan\" ], \\\n",
        "            [\"abdi\", \"hoyong\", \"tuang\" ] , \\\n",
        "            Alignment( [ (0 , 0), (1 , 1), (2 , 2) ] ) ))\n",
        "corpus.append(AlignedSent( [\"rumah\", \"ini\", \"kecil\" ], \\\n",
        "            [\"imah\", \"ieu\", \"leutik\" ] , \\\n",
        "            Alignment( [ (0 , 0), (1 , 1), (2 , 2) ] ) ))\n",
        "corpus.append(AlignedSent( [\"rumah\", \"itu\", \"besar\" ], \\\n",
        "            [\"imah\", \"éta\", \"ageung\" ] , \\\n",
        "            Alignment( [ (0 , 0), (1 , 1), (2 , 2) ] ) ))\n",
        "corpus.append(AlignedSent( [\"mobil\", \"itu\", \"besar\" ], \\\n",
        "            [\"mobil\", \"éta\", \"ageung\" ] , \\\n",
        "            Alignment( [ (0 , 0), (1 , 1), (2 , 2) ] ) ))\n",
        "corpus.append(AlignedSent( [\"saya\", \"mau\", \"minum\" ], \\\n",
        "            [\"abdi\", \"hoyong\", \"nginum\" ] , \\\n",
        "            Alignment( [ (0 , 0), (1 , 1), (2 , 2) ] ) ))\n",
        "\n",
        "corpus.append(AlignedSent( [\"ibu\", \"pergi\", \"ke\", \"pasar\" ], \\\n",
        "            [\"ibu\", \"angkat\", \"ka\", \"pasar\" ] , \\\n",
        "            Alignment( [ (0 , 0), (1 , 1), (2 , 2), (3 , 3) ] ) ))\n",
        "corpus.append(AlignedSent( [\"ayah\", \"sedang\", \"memasak\" ], \\\n",
        "            [\"bapa\", \"nuju\", \"masak\" ] , \\\n",
        "            Alignment( [ (0 , 0), (1 , 1), (2 , 2) ] ) ))\n",
        "corpus.append(AlignedSent( [\"sarah\", \"sedang\", \"makan\" ], \\\n",
        "            [\"sarah\", \"nuju\", \"tuang\" ] , \\\n",
        "            Alignment( [ (0 , 0), (1 , 1), (2 , 2) ] ) ))\n",
        "corpus.append(AlignedSent( [\"saya\", \"sedang\", \"berenang\" ], \\\n",
        "            [\"abdi\", \"nuju\", \"ngojay\" ] , \\\n",
        "            Alignment( [ (0 , 0), (1 , 1), (2 , 2) ] ) ))\n",
        "corpus.append(AlignedSent( [\"saya\", \"mengambil\", \"uang\" ], \\\n",
        "            [\"abdi\", \"nyandak\", \"artos\" ] , \\\n",
        "            Alignment( [ (0 , 0), (1 , 1), (2 , 2) ] ) ))\n",
        "\n",
        "corpus.append(AlignedSent( [\"asep\", \"pergi\", \"ke\", \"sekolah\" ], \\\n",
        "            [\"asep\", \"angkat\", \"ka\", \"sakola\" ] , \\\n",
        "            Alignment( [ (0 , 0), (1 , 1), (2 , 2), (3 , 3) ] ) ))\n",
        "corpus.append(AlignedSent( [\"nisa\", \"memegang\", \"ikan\" ], \\\n",
        "            [\"nisa\", \"nyepeng\", \"lauk\" ] , \\\n",
        "            Alignment( [ (0 , 0), (1 , 1), (2 , 2) ] ) ))\n",
        "corpus.append(AlignedSent( [\"tika\", \"membeli\", \"celana\" ], \\\n",
        "            [\"tika\", \"mésér\", \"calana\" ] , \\\n",
        "            Alignment( [ (0 , 0), (1 , 1), (2 , 2) ] ) ))\n",
        "corpus.append(AlignedSent( [\"saya\", \"memegang\", \"ular\" ], \\\n",
        "            [\"abdi\", \"nyepeng\", \"oray\" ] , \\\n",
        "            Alignment( [ (0 , 0), (1 , 1), (2 , 2) ] ) ))\n",
        "corpus.append(AlignedSent( [\"asep\", \"membuang\", \"sampah\" ], \\\n",
        "            [\"asep\", \"miceun\", \"runtah\" ] , \\\n",
        "            Alignment( [ (0 , 0), (1 , 1), (2 , 2) ] ) ))\n",
        "\n",
        "corpus.append(AlignedSent( [\"nisa\", \"membeli\", \"baju\" ], \\\n",
        "            [\"nisa\", \"mésér\", \"acuk\" ] , \\\n",
        "            Alignment( [ (0 , 0), (1 , 1), (2 , 2) ] ) ))\n",
        "corpus.append(AlignedSent( [\"saya\", \"melihat\", \"kucing\" ], \\\n",
        "            [\"abdi\", \"ningali\", \"ucing\" ] , \\\n",
        "            Alignment( [ (0 , 0), (1 , 1), (2 , 2) ] ) ))\n",
        "corpus.append(AlignedSent( [\"ayah\", \"membuat\", \"kursi\" ], \\\n",
        "            [\"bapa\", \"ngadamel\", \"korsi\" ] , \\\n",
        "            Alignment( [ (0 , 0), (1 , 1), (2 , 2) ] ) ))\n",
        "corpus.append(AlignedSent( [\"ibu\", \"membuat\", \"tumpeng\" ], \\\n",
        "            [\"ibu\", \"ngadamel\", \"tumpeng\" ] , \\\n",
        "            Alignment( [ (0 , 0), (1 , 1), (2 , 2) ] ) ))\n",
        "corpus.append(AlignedSent( [\"baju\", \"ini\", \"bagus\" ], \\\n",
        "            [\"acuk\", \"ieu\", \"saé\" ] , \\\n",
        "            Alignment( [ (0 , 0), (1 , 1), (2 , 2) ] ) ))"
      ],
      "execution_count": 2,
      "outputs": []
    },
    {
      "cell_type": "markdown",
      "metadata": {
        "id": "aLm8bE30mUvw"
      },
      "source": [
        "Pelatihan dengan iterasi sejumlah 100"
      ]
    },
    {
      "cell_type": "code",
      "metadata": {
        "id": "ukN6qc9Lz8Ue"
      },
      "source": [
        "com_ibm1 = IBMModel1(corpus, 100)"
      ],
      "execution_count": 3,
      "outputs": []
    },
    {
      "cell_type": "code",
      "metadata": {
        "colab": {
          "base_uri": "https://localhost:8080/"
        },
        "id": "ZrKEGIs43AFE",
        "outputId": "882f8c84-2fd2-4a83-9d42-58841c94c96d"
      },
      "source": [
        "print(round(com_ibm1.translation_table[\"saya\"][\"abdi\"], 3) )"
      ],
      "execution_count": 4,
      "outputs": [
        {
          "output_type": "stream",
          "text": [
            "1.0\n"
          ],
          "name": "stdout"
        }
      ]
    },
    {
      "cell_type": "code",
      "metadata": {
        "colab": {
          "base_uri": "https://localhost:8080/"
        },
        "id": "zhbZ4wVV3nDg",
        "outputId": "4e4969bd-a364-40b6-e907-bd3d4d0eab74"
      },
      "source": [
        "print(round(com_ibm1.translation_table[\"kecil\"][\"leutik\"], 3) )"
      ],
      "execution_count": 5,
      "outputs": [
        {
          "output_type": "stream",
          "text": [
            "0.993\n"
          ],
          "name": "stdout"
        }
      ]
    },
    {
      "cell_type": "code",
      "metadata": {
        "colab": {
          "base_uri": "https://localhost:8080/"
        },
        "id": "hEmcumOz62Ex",
        "outputId": "e7a69726-52eb-4f56-a773-f71e057a588c"
      },
      "source": [
        "print(round(com_ibm1.translation_table[\"besar\"][\"ageung\"], 3) )"
      ],
      "execution_count": 6,
      "outputs": [
        {
          "output_type": "stream",
          "text": [
            "0.5\n"
          ],
          "name": "stdout"
        }
      ]
    },
    {
      "cell_type": "code",
      "metadata": {
        "colab": {
          "base_uri": "https://localhost:8080/"
        },
        "id": "rmppaUN5ORRf",
        "outputId": "aae7ce3a-6997-43b9-9594-36ec0950ae41"
      },
      "source": [
        "print(round(com_ibm1.translation_table[\"itu\"][\"ageung\"], 3) )"
      ],
      "execution_count": 7,
      "outputs": [
        {
          "output_type": "stream",
          "text": [
            "0.5\n"
          ],
          "name": "stdout"
        }
      ]
    },
    {
      "cell_type": "code",
      "metadata": {
        "colab": {
          "base_uri": "https://localhost:8080/"
        },
        "id": "s9Bqfdo-7BSP",
        "outputId": "e85fead3-413f-4656-dbc5-3717cff0ad9d"
      },
      "source": [
        "print(round(com_ibm1.translation_table[\"ini\"][\"ieu\"], 3) )"
      ],
      "execution_count": 8,
      "outputs": [
        {
          "output_type": "stream",
          "text": [
            "1.0\n"
          ],
          "name": "stdout"
        }
      ]
    },
    {
      "cell_type": "code",
      "metadata": {
        "colab": {
          "base_uri": "https://localhost:8080/"
        },
        "id": "vLC5f3G07EON",
        "outputId": "4a1fc545-ffe1-4ace-c742-3fa3c406c954"
      },
      "source": [
        "print(round(com_ibm1.translation_table[\"itu\"][\"éta\"], 3) )"
      ],
      "execution_count": 9,
      "outputs": [
        {
          "output_type": "stream",
          "text": [
            "0.5\n"
          ],
          "name": "stdout"
        }
      ]
    },
    {
      "cell_type": "code",
      "metadata": {
        "colab": {
          "base_uri": "https://localhost:8080/"
        },
        "id": "S0wHZGU04RNy",
        "outputId": "a15345d9-6794-4a55-ead5-03dab8ed19ff"
      },
      "source": [
        "print(round(com_ibm1.translation_table[\"baju\"][\"acuk\"], 3) )"
      ],
      "execution_count": 10,
      "outputs": [
        {
          "output_type": "stream",
          "text": [
            "1.0\n"
          ],
          "name": "stdout"
        }
      ]
    },
    {
      "cell_type": "code",
      "metadata": {
        "colab": {
          "base_uri": "https://localhost:8080/"
        },
        "id": "8k8ekvuaSlB0",
        "outputId": "36509511-0fe8-4e28-c0a5-88ed7b9f7964"
      },
      "source": [
        "print(round(com_ibm1.translation_table[\"sampah\"][\"runtah\"], 3) )"
      ],
      "execution_count": 11,
      "outputs": [
        {
          "output_type": "stream",
          "text": [
            "0.498\n"
          ],
          "name": "stdout"
        }
      ]
    },
    {
      "cell_type": "code",
      "metadata": {
        "colab": {
          "base_uri": "https://localhost:8080/"
        },
        "id": "vfv8OgqxSpfj",
        "outputId": "09e53fd2-bd06-4658-98b6-fdf9d4d463c4"
      },
      "source": [
        "print(round(com_ibm1.translation_table[\"membuang\"][\"miceun\"], 3) )"
      ],
      "execution_count": 12,
      "outputs": [
        {
          "output_type": "stream",
          "text": [
            "0.498\n"
          ],
          "name": "stdout"
        }
      ]
    },
    {
      "cell_type": "code",
      "metadata": {
        "colab": {
          "base_uri": "https://localhost:8080/",
          "height": 175
        },
        "id": "o10Oh7QWNcsl",
        "outputId": "b2d170fe-703b-47b1-c243-9faa69f486b5"
      },
      "source": [
        "corpus[14].invert()"
      ],
      "execution_count": 13,
      "outputs": [
        {
          "output_type": "execute_result",
          "data": {
            "text/plain": [
              "AlignedSent(['asep', 'miceun', 'runtah'], ['asep', 'membuang', 'sampah'], Alignment([(0, 0), (2, 1), (2, 2)]))"
            ],
            "image/svg+xml": "<?xml version=\"1.0\" encoding=\"UTF-8\" standalone=\"no\"?>\n<!DOCTYPE svg PUBLIC \"-//W3C//DTD SVG 1.1//EN\"\n \"http://www.w3.org/Graphics/SVG/1.1/DTD/svg11.dtd\">\n<!-- Generated by graphviz version 2.40.1 (20161225.0304)\n -->\n<!-- Title: align Pages: 1 -->\n<svg width=\"240pt\" height=\"116pt\"\n viewBox=\"0.00 0.00 240.00 116.00\" xmlns=\"http://www.w3.org/2000/svg\" xmlns:xlink=\"http://www.w3.org/1999/xlink\">\n<g id=\"graph0\" class=\"graph\" transform=\"scale(1 1) rotate(0) translate(4 112)\">\n<title>align</title>\n<polygon fill=\"#ffffff\" stroke=\"transparent\" points=\"-4,4 -4,-112 236,-112 236,4 -4,4\"/>\n<!-- asep_source -->\n<g id=\"node1\" class=\"node\">\n<title>asep_source</title>\n<text text-anchor=\"middle\" x=\"27\" y=\"-86.3\" font-family=\"Times,serif\" font-size=\"14.00\" fill=\"#000000\">asep</text>\n</g>\n<!-- miceun_source -->\n<g id=\"node2\" class=\"node\">\n<title>miceun_source</title>\n<text text-anchor=\"middle\" x=\"102\" y=\"-86.3\" font-family=\"Times,serif\" font-size=\"14.00\" fill=\"#000000\">miceun</text>\n</g>\n<!-- asep_source&#45;&#45;miceun_source -->\n<!-- asep_target -->\n<g id=\"node4\" class=\"node\">\n<title>asep_target</title>\n<text text-anchor=\"middle\" x=\"27\" y=\"-14.3\" font-family=\"Times,serif\" font-size=\"14.00\" fill=\"#000000\">asep</text>\n</g>\n<!-- asep_source&#45;&#45;asep_target -->\n<g id=\"edge1\" class=\"edge\">\n<title>asep_source&#45;&#45;asep_target</title>\n<path fill=\"none\" stroke=\"#000000\" d=\"M27,-71.8314C27,-61 27,-47.2876 27,-36.4133\"/>\n</g>\n<!-- runtah_source -->\n<g id=\"node3\" class=\"node\">\n<title>runtah_source</title>\n<text text-anchor=\"middle\" x=\"177\" y=\"-86.3\" font-family=\"Times,serif\" font-size=\"14.00\" fill=\"#000000\">runtah</text>\n</g>\n<!-- miceun_source&#45;&#45;runtah_source -->\n<!-- membuang_target -->\n<g id=\"node5\" class=\"node\">\n<title>membuang_target</title>\n<text text-anchor=\"middle\" x=\"113\" y=\"-14.3\" font-family=\"Times,serif\" font-size=\"14.00\" fill=\"#000000\">membuang</text>\n</g>\n<!-- runtah_source&#45;&#45;membuang_target -->\n<g id=\"edge2\" class=\"edge\">\n<title>runtah_source&#45;&#45;membuang_target</title>\n<path fill=\"none\" stroke=\"#000000\" d=\"M160.8501,-71.8314C151.2222,-61 139.0334,-47.2876 129.3673,-36.4133\"/>\n</g>\n<!-- sampah_target -->\n<g id=\"node6\" class=\"node\">\n<title>sampah_target</title>\n<text text-anchor=\"middle\" x=\"202\" y=\"-14.3\" font-family=\"Times,serif\" font-size=\"14.00\" fill=\"#000000\">sampah</text>\n</g>\n<!-- runtah_source&#45;&#45;sampah_target -->\n<g id=\"edge3\" class=\"edge\">\n<title>runtah_source&#45;&#45;sampah_target</title>\n<path fill=\"none\" stroke=\"#000000\" d=\"M183.3086,-71.8314C187.0694,-61 191.8307,-47.2876 195.6065,-36.4133\"/>\n</g>\n<!-- asep_target&#45;&#45;membuang_target -->\n<!-- membuang_target&#45;&#45;sampah_target -->\n</g>\n</svg>\n"
          },
          "metadata": {
            "tags": []
          },
          "execution_count": 13
        }
      ]
    }
  ]
}